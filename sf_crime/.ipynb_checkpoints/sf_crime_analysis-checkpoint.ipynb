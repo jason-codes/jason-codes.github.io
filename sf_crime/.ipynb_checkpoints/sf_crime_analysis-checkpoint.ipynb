{
 "cells": [
  {
   "cell_type": "code",
   "execution_count": 1,
   "metadata": {},
   "outputs": [],
   "source": [
    "# Dependencies\n",
    "import requests\n",
    "import json\n",
    "import pandas as pd\n",
    "import numpy as np\n",
    "import gmaps\n",
    "import matplotlib.pyplot as plt\n",
    "%matplotlib notebook\n",
    "from app_token import sf_crime_token\n",
    "from datetime import date, datetime, timedelta\n",
    "from config import g_key\n",
    "gmaps.configure(api_key=g_key)"
   ]
  },
  {
   "cell_type": "markdown",
   "metadata": {},
   "source": [
    "# API Request\n",
    "Resource: https://dev.socrata.com/foundry/data.sfgov.org/wg3w-h783"
   ]
  },
  {
   "cell_type": "code",
   "execution_count": 2,
   "metadata": {},
   "outputs": [],
   "source": [
    "# Base URL\n",
    "base_url = 'https://data.sfgov.org/resource/wg3w-h783.json'"
   ]
  },
  {
   "cell_type": "code",
   "execution_count": 3,
   "metadata": {},
   "outputs": [],
   "source": [
    "# Query string parameters\n",
    "token = f'$$app_token={sf_crime_token}'\n",
    "order = '$order=incident_datetime ASC'\n",
    "limit = '$limit=1000000'\n",
    "lockdown_date = date(2020,3,17)\n",
    "start_date = lockdown_date-timedelta(days=366)\n",
    "end_date = lockdown_date+timedelta(days=364)\n",
    "date_range = f\"incident_date between '{start_date}' and '{end_date}'\""
   ]
  },
  {
   "cell_type": "code",
   "execution_count": 4,
   "metadata": {},
   "outputs": [],
   "source": [
    "# Request URL\n",
    "request_url = f'{base_url}?{token}&{order}&{limit}&$where={date_range}'"
   ]
  },
  {
   "cell_type": "code",
   "execution_count": 5,
   "metadata": {},
   "outputs": [],
   "source": [
    "# Store response in DataFrame\n",
    "data = requests.get(request_url).json()\n",
    "data_df = pd.DataFrame.from_records(data)"
   ]
  },
  {
   "cell_type": "markdown",
   "metadata": {},
   "source": [
    "# Data Quality Assessment"
   ]
  },
  {
   "cell_type": "markdown",
   "metadata": {},
   "source": [
    "### Check Uniqueness"
   ]
  },
  {
   "cell_type": "code",
   "execution_count": 6,
   "metadata": {},
   "outputs": [
    {
     "name": "stdout",
     "output_type": "stream",
     "text": [
      "Total Rows: 260344\n",
      "Unique Row IDs: 260344\n",
      "Unique Incident IDs: 216009\n"
     ]
    }
   ],
   "source": [
    "# Determine uniqueness of row_id, incident_id\n",
    "row_count = len(data_df.index)\n",
    "row_id_count = data_df['row_id'].nunique()\n",
    "incident_id_count = data_df['incident_id'].nunique()\n",
    "print(f'Total Rows: {row_count}')\n",
    "print(f'Unique Row IDs: {row_id_count}')\n",
    "print(f'Unique Incident IDs: {incident_id_count}')"
   ]
  },
  {
   "cell_type": "code",
   "execution_count": 7,
   "metadata": {},
   "outputs": [
    {
     "name": "stdout",
     "output_type": "stream",
     "text": [
      "incident_datetime: one-to-one\n",
      "incident_date: one-to-one\n",
      "incident_time: one-to-one\n",
      "incident_year: one-to-one\n",
      "incident_day_of_week: one-to-one\n",
      "report_datetime: one-to-one\n",
      "row_id: one-to-many\n",
      "incident_id: one-to-one\n",
      "incident_number: one-to-one\n",
      "report_type_code: one-to-one\n",
      "report_type_description: one-to-one\n",
      "filed_online: one-to-one\n",
      "incident_code: one-to-many\n",
      "incident_category: one-to-many\n",
      "incident_subcategory: one-to-many\n",
      "incident_description: one-to-many\n",
      "resolution: one-to-one\n",
      "intersection: one-to-one\n",
      "cnn: one-to-one\n",
      "police_district: one-to-one\n",
      "analysis_neighborhood: one-to-one\n",
      "supervisor_district: one-to-one\n",
      "latitude: one-to-one\n",
      "longitude: one-to-one\n",
      "cad_number: one-to-one\n"
     ]
    }
   ],
   "source": [
    "# Determine relationship (i.e., one-to-one or one-to-many) of incident_id and attributes\n",
    "columns = data_df.columns.values.tolist()\n",
    "columns.remove('point')\n",
    "for column in columns:\n",
    "    attr_row_count = len(data_df[['incident_id', column]].drop_duplicates().index)\n",
    "    if attr_row_count == incident_id_count:\n",
    "        relationship = 'one-to-one'\n",
    "    else:\n",
    "        relationship = 'one-to-many'\n",
    "    print(f'{column}: {relationship}')"
   ]
  },
  {
   "cell_type": "markdown",
   "metadata": {},
   "source": [
    "**Finding:** *Row_id* is a unique identifier for each record, while *incident_id* is not. An *incident_id* may appear in multiple records when the incident involves two or more offenses, e.g., illegal possession of drugs and speeding. The following fields are responsible for the duplications: *incident_code*, *incident_category*, *incident_subcategory*, and *incident_description*. All other incident attributes take on a maximum of one value per *incident_id*."
   ]
  },
  {
   "cell_type": "markdown",
   "metadata": {},
   "source": [
    "### Check Completeness"
   ]
  },
  {
   "cell_type": "code",
   "execution_count": 8,
   "metadata": {},
   "outputs": [
    {
     "data": {
      "text/plain": [
       "incident_datetime          1.000000\n",
       "incident_date              1.000000\n",
       "incident_time              1.000000\n",
       "incident_year              1.000000\n",
       "incident_day_of_week       1.000000\n",
       "report_datetime            1.000000\n",
       "row_id                     1.000000\n",
       "incident_id                1.000000\n",
       "incident_number            1.000000\n",
       "report_type_code           1.000000\n",
       "report_type_description    1.000000\n",
       "filed_online               0.189657\n",
       "incident_code              1.000000\n",
       "incident_category          0.998717\n",
       "incident_subcategory       0.998717\n",
       "incident_description       1.000000\n",
       "resolution                 1.000000\n",
       "intersection               0.950158\n",
       "cnn                        0.950158\n",
       "police_district            1.000000\n",
       "analysis_neighborhood      0.950158\n",
       "supervisor_district        0.950158\n",
       "latitude                   0.950158\n",
       "longitude                  0.950158\n",
       "point                      0.950158\n",
       "cad_number                 0.789440\n",
       "dtype: float64"
      ]
     },
     "execution_count": 8,
     "metadata": {},
     "output_type": "execute_result"
    }
   ],
   "source": [
    "# Calculate percentage of non-missing values per column\n",
    "data_df.count() / row_count"
   ]
  },
  {
   "cell_type": "markdown",
   "metadata": {},
   "source": [
    "**Finding:** The dataset is sufficiently comprehensive because it captures key incident details such as date, time, category, and location. Furthermore, the frequency of missing values did not exceed 5% for any significant column. Additional details about the perpetrator and victim would have been interesting."
   ]
  },
  {
   "cell_type": "markdown",
   "metadata": {},
   "source": [
    "### Check Timeliness"
   ]
  },
  {
   "cell_type": "code",
   "execution_count": 9,
   "metadata": {},
   "outputs": [],
   "source": [
    "# Calculate elapsed time from incident to recording of incident\n",
    "# Resource: https://www.datasciencemadesimple.com/difference-two-timestamps-seconds-minutes-hours-pandas-python-2/\n",
    "time_df = data_df[['incident_id', 'report_datetime', 'incident_datetime']].drop_duplicates()\n",
    "time_df[['report_datetime', 'incident_datetime']] = time_df[['report_datetime', 'incident_datetime']].apply(pd.to_datetime)\n",
    "time_df['diff_datetime'] = time_df['report_datetime'] - time_df['incident_datetime']\n",
    "time_df['diff_hours'] = time_df['diff_datetime'] / np.timedelta64(1,'h')"
   ]
  },
  {
   "cell_type": "code",
   "execution_count": 10,
   "metadata": {},
   "outputs": [
    {
     "name": "stdout",
     "output_type": "stream",
     "text": [
      "Quantile 0.05: 0.00 Hours\n",
      "Quantile 0.10: 0.00 Hours\n",
      "Quantile 0.15: 0.00 Hours\n",
      "Quantile 0.20: 0.05 Hours\n",
      "Quantile 0.25: 0.12 Hours\n",
      "Quantile 0.30: 0.23 Hours\n",
      "Quantile 0.35: 0.50 Hours\n",
      "Quantile 0.40: 1.12 Hours\n",
      "Quantile 0.45: 2.03 Hours\n",
      "Quantile 0.50: 3.43 Hours\n",
      "Quantile 0.55: 6.18 Hours\n",
      "Quantile 0.60: 11.15 Hours\n",
      "Quantile 0.65: 15.62 Hours\n",
      "Quantile 0.70: 21.05 Hours\n",
      "Quantile 0.75: 30.80 Hours\n",
      "Quantile 0.80: 51.47 Hours\n",
      "Quantile 0.85: 93.13 Hours\n",
      "Quantile 0.90: 185.54 Hours\n",
      "Quantile 0.95: 528.45 Hours\n"
     ]
    }
   ],
   "source": [
    "# Calculate distribution of elapsed time\n",
    "quantiles = np.arange(0.05, 1, 0.05)\n",
    "for item in quantiles:\n",
    "    value = time_df['diff_hours'].quantile(item)\n",
    "    print(f\"Quantile {'{:.2f}'.format(item)}: {'{:.2f}'.format(value)} Hours\")"
   ]
  },
  {
   "cell_type": "markdown",
   "metadata": {},
   "source": [
    "**Finding:** Incident reports are filed in a timely manner. The median elapsed time from incident occurrence to report filing is a mere 3 hours and 26 minutes. Q<sub>1</sub> = 7 minutes and Q<sub>3</sub> = 30 hours and 40 minutes. Once filed, incident reports are published via an automated daily update."
   ]
  },
  {
   "cell_type": "markdown",
   "metadata": {},
   "source": [
    "### Check Consistency"
   ]
  },
  {
   "cell_type": "code",
   "execution_count": 11,
   "metadata": {},
   "outputs": [
    {
     "name": "stdout",
     "output_type": "stream",
     "text": [
      "Arson                                           785\n",
      "Assault                                       15603\n",
      "Burglary                                      16115\n",
      "Case Closure                                   1073\n",
      "Civil Sidewalks                                 248\n",
      "Courtesy Report                                 764\n",
      "Disorderly Conduct                             4432\n",
      "Drug Offense                                   6062\n",
      "Drug Violation                                   87\n",
      "Embezzlement                                    347\n",
      "Fire Report                                     363\n",
      "Forgery And Counterfeiting                      928\n",
      "Fraud                                          7884\n",
      "Gambling                                          5\n",
      "Homicide                                         29\n",
      "Human Trafficking (A), Commercial Sex Acts       24\n",
      "Human Trafficking, Commercial Sex Acts           13\n",
      "Larceny Theft                                 76078\n",
      "Liquor Laws                                      15\n",
      "Lost Property                                  7179\n",
      "Malicious Mischief                            17923\n",
      "Miscellaneous Investigation                    2501\n",
      "Missing Person                                 5643\n",
      "Motor Vehicle Theft                           13613\n",
      "Motor Vehicle Theft?                             27\n",
      "Non-Criminal                                  15521\n",
      "Offences Against The Family And Children       3582\n",
      "Other                                          2353\n",
      "Other Miscellaneous                           18718\n",
      "Other Offenses                                 2410\n",
      "Prostitution                                    315\n",
      "Rape                                             51\n",
      "Recovered Vehicle                             10385\n",
      "Robbery                                        6135\n",
      "Sex Offense                                     296\n",
      "Stolen Property                                1391\n",
      "Suicide                                         125\n",
      "Suspicious                                       48\n",
      "Suspicious Occ                                 5347\n",
      "Traffic Collision                               579\n",
      "Traffic Violation Arrest                       2817\n",
      "Vandalism                                       570\n",
      "Vehicle Impounded                               198\n",
      "Vehicle Misplaced                               103\n",
      "Warrant                                        8121\n",
      "Weapons Carrying Etc                           1451\n",
      "Weapons Offence                                  13\n",
      "Weapons Offense                                1740\n",
      "Name: incident_category, dtype: int64\n"
     ]
    }
   ],
   "source": [
    "# Count incident_category labels\n",
    "# Resource: https://towardsdatascience.com/master-the-most-hated-task-in-ds-ml-3b9779276d7c\n",
    "incident_categories = data_df['incident_category'].value_counts().sort_index()\n",
    "print(incident_categories)"
   ]
  },
  {
   "cell_type": "code",
   "execution_count": 12,
   "metadata": {},
   "outputs": [
    {
     "name": "stdout",
     "output_type": "stream",
     "text": [
      "Bayview       23861\n",
      "Central       35963\n",
      "Ingleside     20694\n",
      "Mission       32476\n",
      "Northern      37028\n",
      "Out of SF      7564\n",
      "Park          12890\n",
      "Richmond      16941\n",
      "Southern      30267\n",
      "Taraval       18296\n",
      "Tenderloin    24364\n",
      "Name: police_district, dtype: int64\n"
     ]
    }
   ],
   "source": [
    "# Count police_district labels\n",
    "police_districts = data_df['police_district'].value_counts().sort_index()\n",
    "print(police_districts)"
   ]
  },
  {
   "cell_type": "code",
   "execution_count": 13,
   "metadata": {},
   "outputs": [
    {
     "name": "stdout",
     "output_type": "stream",
     "text": [
      "Bayview Hunters Point             16491\n",
      "Bernal Heights                     4831\n",
      "Castro/Upper Market                7686\n",
      "Chinatown                          4485\n",
      "Excelsior                          4456\n",
      "Financial District/South Beach    19212\n",
      "Glen Park                          1463\n",
      "Golden Gate Park                   2533\n",
      "Haight Ashbury                     4264\n",
      "Hayes Valley                       7298\n",
      "Inner Richmond                     3385\n",
      "Inner Sunset                       3301\n",
      "Japantown                          2332\n",
      "Lakeshore                          2911\n",
      "Lincoln Park                        406\n",
      "Lone Mountain/USF                  3217\n",
      "Marina                             7393\n",
      "McLaren Park                        317\n",
      "Mission                           25933\n",
      "Mission Bay                        4504\n",
      "Nob Hill                           7515\n",
      "Noe Valley                         2840\n",
      "North Beach                        6712\n",
      "Oceanview/Merced/Ingleside         2539\n",
      "Outer Mission                      3750\n",
      "Outer Richmond                     6082\n",
      "Pacific Heights                    4772\n",
      "Portola                            2952\n",
      "Potrero Hill                       4416\n",
      "Presidio                            633\n",
      "Presidio Heights                   1764\n",
      "Russian Hill                       5610\n",
      "Seacliff                            333\n",
      "South of Market                   19655\n",
      "Sunset/Parkside                    7364\n",
      "Tenderloin                        25263\n",
      "Treasure Island                     867\n",
      "Twin Peaks                         1493\n",
      "Visitacion Valley                  2845\n",
      "West of Twin Peaks                 5236\n",
      "Western Addition                   8258\n",
      "null                                 51\n",
      "Name: analysis_neighborhood, dtype: int64\n"
     ]
    }
   ],
   "source": [
    "# Count analysis_neighborhood labels\n",
    "neighborhoods = data_df['analysis_neighborhood'].value_counts().sort_index()\n",
    "print(neighborhoods)"
   ]
  },
  {
   "cell_type": "markdown",
   "metadata": {},
   "source": [
    "**Finding:** In *incident_category*, multiple inconsistencies exists: the word \"Offense\" is sometimes spelled \"Offence\", a \"?\" is appended to \"Motor Vehicle Theft\", and \"(A)\" is inserted into \"Human Trafficking, Commercial Sex Acts.\" Furthermore, the field requires grouping of several categories: \"Drug Violation\" into \"Drug Offense\", \"Other\" and \"Other Offenses\" into \"Other Miscellaneous\", \"Suspicious\" into \"Suspicious Occ\", and \"Weapons Carrying Etc\" into \"Weapons Offense\". In *analysis_neighborhood*, an inconsistency exists across \"null\" and blank values; they are two representations of the same value."
   ]
  },
  {
   "cell_type": "markdown",
   "metadata": {},
   "source": [
    "# Data Cleansing"
   ]
  },
  {
   "cell_type": "code",
   "execution_count": 14,
   "metadata": {},
   "outputs": [],
   "source": [
    "# Fill missing and psuedo-missing values\n",
    "data_df.fillna({'analysis_neighborhood':'Not Disclosed', 'incident_category':'Not Disclosed'}, inplace=True)\n",
    "data_df['analysis_neighborhood'].replace('null','Not Disclosed', inplace=True)"
   ]
  },
  {
   "cell_type": "code",
   "execution_count": 15,
   "metadata": {},
   "outputs": [],
   "source": [
    "# Fix inconsistencies\n",
    "data_df['incident_category'].replace(['Offence','\\?',' \\(A\\)'],['Offense','',''], inplace=True, regex=True)"
   ]
  },
  {
   "cell_type": "code",
   "execution_count": 16,
   "metadata": {},
   "outputs": [],
   "source": [
    "# Group similar categories\n",
    "originals = ['Drug Violation','Other','Other Offenses','Suspicious','Weapons Carrying Etc']\n",
    "replacements = ['Drug Offense','Other Miscellaneous','Other Miscellaneous','Suspicious Occ', 'Weapons Offense']\n",
    "data_df['incident_category'].replace(originals, replacements, inplace=True)"
   ]
  },
  {
   "cell_type": "code",
   "execution_count": 17,
   "metadata": {},
   "outputs": [],
   "source": [
    "# Slice df so incidents prior to and following the lockdown are separated\n",
    "pre_df = data_df.loc[data_df['incident_date'] < lockdown_date.strftime('%Y-%m-%d')]\n",
    "post_df = data_df.loc[data_df['incident_date'] >= lockdown_date.strftime('%Y-%m-%d')]"
   ]
  },
  {
   "cell_type": "code",
   "execution_count": null,
   "metadata": {},
   "outputs": [],
   "source": [
    "# Export df to csv\n",
    "data_df.to_csv('data.csv', header=True, index=False)\n",
    "pre_df.to_csv('pre_data.csv', header=True, index=False)\n",
    "post_df.to_csv('post_data.csv', header=True, index=False)"
   ]
  },
  {
   "cell_type": "markdown",
   "metadata": {},
   "source": [
    "# Data Analysis"
   ]
  },
  {
   "cell_type": "markdown",
   "metadata": {},
   "source": [
    "### Daily Incidents"
   ]
  },
  {
   "cell_type": "code",
   "execution_count": 22,
   "metadata": {},
   "outputs": [],
   "source": [
    "# Count incidents reported each day (overall, pre/post lockdown, 30 days pre/post lockdown)\n",
    "daily_ser = data_df.groupby('incident_date')['incident_id'].nunique()\n",
    "daily_ser.index = pd.to_datetime(daily_ser.index).date\n",
    "daily_pre_ser = daily_ser.loc[daily_ser.index < lockdown_date]\n",
    "daily_post_ser = daily_ser.loc[daily_ser.index >= lockdown_date]\n",
    "daily_30_pre_ser = daily_ser.loc[(daily_ser.index >= lockdown_date - timedelta(days=30)) & (daily_ser.index < lockdown_date)]\n",
    "daily_30_post_ser = daily_ser.loc[(daily_ser.index >= lockdown_date) & (daily_ser.index < lockdown_date + timedelta(days=30))]"
   ]
  },
  {
   "cell_type": "code",
   "execution_count": 23,
   "metadata": {},
   "outputs": [],
   "source": [
    "# Calculate daily averages\n",
    "avg_inc = daily_ser.mean()\n",
    "avg_inc_pre = daily_pre_ser.mean()\n",
    "avg_inc_post = daily_post_ser.mean()\n",
    "avg_inc_30_pre = daily_30_pre_ser.mean()\n",
    "avg_inc_30_post = daily_30_post_ser.mean()"
   ]
  },
  {
   "cell_type": "code",
   "execution_count": 24,
   "metadata": {},
   "outputs": [
    {
     "name": "stdout",
     "output_type": "stream",
     "text": [
      "Mean: 295.4979480164159\n",
      "Mean 1 Year Pre-Lockdown: 336.95628415300547\n",
      "Mean 1 Year Post-Lockdown: 253.92602739726027\n",
      "Mean 30 Days Pre-Lockdown: 313.6666666666667\n",
      "Mean 30 Days Post-Lockdown: 207.1\n"
     ]
    }
   ],
   "source": [
    "# Print averages\n",
    "print(f'Mean: {avg_inc}')\n",
    "print(f'Mean 1 Year Pre-Lockdown: {avg_inc_pre}')\n",
    "print(f'Mean 1 Year Post-Lockdown: {avg_inc_post}')\n",
    "print(f'Mean 30 Days Pre-Lockdown: {avg_inc_30_pre}')\n",
    "print(f'Mean 30 Days Post-Lockdown: {avg_inc_30_post}')"
   ]
  },
  {
   "cell_type": "code",
   "execution_count": 25,
   "metadata": {},
   "outputs": [
    {
     "data": {
      "image/png": "[encoded data removed]",
      "text/plain": [
       "<Figure size 1296x432 with 1 Axes>"
      ]
     },
     "metadata": {
      "needs_background": "light"
     },
     "output_type": "display_data"
    }
   ],
   "source": [
    "# Plot\n",
    "# Resource: https://matplotlib.org/stable/gallery/text_labels_and_annotations/date.html\n",
    "pd.plotting.register_matplotlib_converters()\n",
    "plt.figure(figsize=(18,6))\n",
    "plt.plot(daily_ser.index, daily_ser, color='C7', alpha=0.6)\n",
    "plt.vlines(lockdown_date, daily_ser.min(), daily_ser.max(), color='black', linestyles='--', label=lockdown_date)\n",
    "plt.hlines(avg_inc_pre, daily_pre_ser.index.min(), daily_pre_ser.index.max(), color='C0', linewidth=4, label='Mean, 1 Year before Lockdown')\n",
    "plt.hlines(avg_inc_30_pre, daily_30_pre_ser.index.min(), daily_30_pre_ser.index.max(), color='C0', linewidth=4, alpha=0.5, label='Mean, 30 Days before Lockdown')\n",
    "plt.hlines(avg_inc_post, daily_post_ser.index.min(), daily_post_ser.index.max(), color='C1', linewidth=4, label='Mean, 1 Year after Lockdown')\n",
    "plt.hlines(avg_inc_30_post, daily_30_post_ser.index.min(), daily_30_post_ser.index.max(), color='C1', linewidth=4, alpha=0.5, label='Mean, 30 Days after Lockdown')\n",
    "plt.xlabel('Date', fontsize=12, labelpad=15)\n",
    "plt.ylabel('Number of Incidents', fontsize=12, labelpad=15)\n",
    "plt.legend(fontsize=12)\n",
    "plt.savefig('img/incidents_daily.png')"
   ]
  },
  {
   "cell_type": "markdown",
   "metadata": {},
   "source": [
    "### Police District Incidents"
   ]
  },
  {
   "cell_type": "code",
   "execution_count": null,
   "metadata": {},
   "outputs": [],
   "source": [
    "# Count incidents reported to each police district\n",
    "district_pre_ser = pre_df.groupby('police_district')['incident_id'].nunique().rename('inc_pre')\n",
    "district_post_ser = post_df.groupby('police_district')['incident_id'].nunique().rename('inc_post')\n",
    "district_df = pd.concat([district_pre_ser, district_post_ser], axis=1)"
   ]
  },
  {
   "cell_type": "code",
   "execution_count": null,
   "metadata": {},
   "outputs": [],
   "source": [
    "# Calculate difference and percent difference\n",
    "district_df['inc_diff'] = district_df['inc_post'] - district_df['inc_pre']\n",
    "district_df['inc_diff_perc'] = district_df['inc_diff'] / district_df['inc_pre'] * 100\n",
    "district_df"
   ]
  },
  {
   "cell_type": "code",
   "execution_count": null,
   "metadata": {},
   "outputs": [],
   "source": [
    "# Plot\n",
    "labels = district_df.index\n",
    "x = np.arange(len(labels))\n",
    "width = 0.35\n",
    "plt.figure(figsize=(18,6))\n",
    "rects1 = plt.bar(x - width/2, district_df['inc_pre'], width, color='C0', label='Pre-Lockdown')\n",
    "rects2 = plt.bar(x + width/2, district_df['inc_post'], width, color='C1', label='Post-Lockdown')\n",
    "plt.xticks(x, labels)\n",
    "plt.xlabel('Police District', fontsize=12, labelpad=15)\n",
    "plt.ylabel('Number of Incidents', fontsize=12, labelpad=15)\n",
    "plt.legend(fontsize=12)\n",
    "plt.savefig('img/incidents_police_district.png')"
   ]
  },
  {
   "cell_type": "markdown",
   "metadata": {},
   "source": [
    "### Category Incidents"
   ]
  },
  {
   "cell_type": "code",
   "execution_count": null,
   "metadata": {},
   "outputs": [],
   "source": [
    "# Count incidents by 'incident_category'\n",
    "cat_pre_ser = pre_df.groupby('incident_category')['incident_id'].nunique().rename('inc_pre')\n",
    "cat_post_ser = post_df.groupby('incident_category')['incident_id'].nunique().rename('inc_post')\n",
    "cat_df = pd.concat([cat_pre_ser, cat_post_ser], sort=True, axis=1).fillna(0)\n",
    "cat_df['inc_post'] = cat_df['inc_post'].astype(int)\n",
    "cat_df.sort_values(by=['inc_post'], ascending=True, inplace=True)\n",
    "cat_df.drop(labels='Not Disclosed', axis=0, inplace=True)"
   ]
  },
  {
   "cell_type": "code",
   "execution_count": null,
   "metadata": {},
   "outputs": [],
   "source": [
    "# Calculate percent difference, determine bar color (i.e., green or red for positive or negative)\n",
    "cat_df['inc_diff_perc'] = (cat_df['inc_post'] - cat_df['inc_pre']) / cat_df['inc_pre'] * 100\n",
    "cat_df['color'] = ['C3' if perc < 0 else 'C2' for perc in cat_df['inc_diff_perc']]"
   ]
  },
  {
   "cell_type": "code",
   "execution_count": null,
   "metadata": {},
   "outputs": [],
   "source": [
    "# Shorten 'incident_category' labels for improved chart readability\n",
    "cat_df.rename(index={'Human Trafficking, Commercial Sex Acts': 'Human Trafficking',\n",
    "                    'Offenses Against The Family And Children': 'Offenses Against The Family'}, inplace=True)"
   ]
  },
  {
   "cell_type": "code",
   "execution_count": null,
   "metadata": {},
   "outputs": [],
   "source": [
    "# Append post-lockdown incident count to index\n",
    "cat_df.index = cat_df.index + ' (' + cat_df['inc_post'].astype(str) + ')'"
   ]
  },
  {
   "cell_type": "code",
   "execution_count": null,
   "metadata": {},
   "outputs": [],
   "source": [
    "# Plot\n",
    "plt.figure(figsize=(12, 10))\n",
    "plt.barh(cat_df.index, cat_df['inc_diff_perc'], height=0.6, color=cat_df['color'])\n",
    "plt.xlabel('Percent Change', fontsize=12, labelpad=15)\n",
    "plt.ylabel('Category (Number of Incidents Post-Lockdown)', fontsize=12, labelpad=15)\n",
    "plt.xlim(-100, max(100, cat_df['inc_diff_perc'].max()))\n",
    "plt.ylim(-1, len(cat_df.index))\n",
    "plt.grid(axis='x', linestyle=':')\n",
    "plt.tight_layout()\n",
    "plt.savefig('img/incidents_category.png')"
   ]
  },
  {
   "cell_type": "markdown",
   "metadata": {},
   "source": [
    "### Map Incidents"
   ]
  },
  {
   "cell_type": "code",
   "execution_count": null,
   "metadata": {},
   "outputs": [],
   "source": [
    "# Determine a set of 'incident_category' labels on which to focus\n",
    "inc_cats = ['Burglary', 'Motor Vehicle Theft']\n",
    "cat_pre_df = pre_df.loc[data_df['incident_category'].isin(inc_cats)]\n",
    "cat_post_df = post_df.loc[data_df['incident_category'].isin(inc_cats)]"
   ]
  },
  {
   "cell_type": "code",
   "execution_count": null,
   "metadata": {},
   "outputs": [],
   "source": [
    "# Create function that maps incidents by latitude and longitude\n",
    "# Resource: https://jupyter-gmaps.readthedocs.io/en/latest/tutorial.html\n",
    "def map_incidents(df):\n",
    "    latlong_df = df[['incident_id', 'latitude', 'longitude']].copy().drop_duplicates().dropna(how='any')\n",
    "    locations = latlong_df[['latitude', 'longitude']].astype(float)\n",
    "    fig_layout_dict = {'width':'1000px', 'height':'1000px', 'border':'1px solid black', 'padding':'5px'}\n",
    "    fig = gmaps.figure(layout=fig_layout_dict)\n",
    "    heat_layer = gmaps.heatmap_layer(locations, dissipating=True, max_intensity=6, point_radius=6)\n",
    "    fig.add_layer(heat_layer)\n",
    "    return fig"
   ]
  },
  {
   "cell_type": "code",
   "execution_count": null,
   "metadata": {},
   "outputs": [],
   "source": [
    "# Map pre-lockdown incidents\n",
    "map_incidents(cat_pre_df)"
   ]
  },
  {
   "cell_type": "code",
   "execution_count": null,
   "metadata": {},
   "outputs": [],
   "source": [
    "# Map post-lockdown incidents\n",
    "map_incidents(cat_post_df)"
   ]
  },
  {
   "cell_type": "markdown",
   "metadata": {},
   "source": [
    "### Neighborhood Incidents"
   ]
  },
  {
   "cell_type": "code",
   "execution_count": null,
   "metadata": {},
   "outputs": [],
   "source": [
    "# Create function that charts incidents by neighborhood\n",
    "def chart_neighborhood_incidents(df, timing):\n",
    "    district_ser = df.groupby('analysis_neighborhood')['incident_id'].nunique()\n",
    "    district_ser.sort_values(ascending=True, inplace=True)\n",
    "    plt.figure(figsize=(10,10))\n",
    "    plt.barh(district_ser.index, district_ser, height=0.5, color='C0', align='center')\n",
    "    plt.title(f'Neighborhood Incidents {timing}-Lockdown')\n",
    "    plt.xlabel('NUmber of Incidents')\n",
    "    plt.ylabel('Neighborhood')\n",
    "    plt.ylim(-0.5, len(district_ser)-0.5)\n",
    "    plt.tick_params(axis='y',left=False)\n",
    "    plt.tight_layout()\n",
    "    plt.savefig(f'img/incidents_neighborhood_{timing.lower()}.png')"
   ]
  },
  {
   "cell_type": "code",
   "execution_count": null,
   "metadata": {},
   "outputs": [],
   "source": [
    "# Map pre-lockdown incidents\n",
    "chart_neighborhood_incidents(cat_pre_df, 'Pre')"
   ]
  },
  {
   "cell_type": "code",
   "execution_count": null,
   "metadata": {},
   "outputs": [],
   "source": [
    "# Map pre-lockdown incidents\n",
    "chart_neighborhood_incidents(cat_post_df, 'Post')"
   ]
  },
  {
   "cell_type": "code",
   "execution_count": null,
   "metadata": {},
   "outputs": [],
   "source": []
  },
  {
   "cell_type": "code",
   "execution_count": null,
   "metadata": {},
   "outputs": [],
   "source": []
  },
  {
   "cell_type": "markdown",
   "metadata": {},
   "source": [
    "## Data Analysis"
   ]
  },
  {
   "cell_type": "markdown",
   "metadata": {},
   "source": [
    "**Category Analysis**"
   ]
  },
  {
   "cell_type": "code",
   "execution_count": null,
   "metadata": {},
   "outputs": [],
   "source": [
    "# Group total incidents by category\n",
    "pre_cat_ser = pre_df.groupby('incident_category')['incident_id'].nunique().rename('pre_incidents')\n",
    "post_cat_ser = post_df.groupby('incident_category')['incident_id'].nunique().rename('post_incidents')"
   ]
  },
  {
   "cell_type": "code",
   "execution_count": null,
   "metadata": {},
   "outputs": [],
   "source": [
    "# Concatenate pre and post incidents, calculate percent change\n",
    "cat_df = pd.concat([pre_cat_ser, post_cat_ser], sort=True, axis=1).fillna(0)\n",
    "cat_df['post_incidents'] = cat_df['post_incidents'].astype(int)\n",
    "cat_df.drop(labels='Not Disclosed', axis=0, inplace=True)\n",
    "cat_df['percent_change'] = (cat_df['post_incidents'] - cat_df['pre_incidents']) / cat_df['pre_incidents'] * 100\n",
    "cat_df.sort_values(by=['post_incidents'], ascending=True, inplace=True)\n",
    "cat_df.index = cat_df.index + ' (' + cat_df['post_incidents'].astype(str) + ')'"
   ]
  },
  {
   "cell_type": "code",
   "execution_count": null,
   "metadata": {
    "scrolled": true
   },
   "outputs": [],
   "source": [
    "# Plot\n",
    "plt.figure(figsize=(10,10))\n",
    "plt.barh(cat_df.index, cat_df['percent_change'], height=0.5, color='royalblue', align='center')\n",
    "plt.title(f'Category Incidents Post-Lockdown')\n",
    "plt.xlabel('Percent Change YOY')\n",
    "plt.ylabel('Category (Incidents)')\n",
    "plt.xlim(-100, max(100, cat_df['percent_change'].max()))\n",
    "plt.ylim(-0.5, len(cat_df.index)-0.5)\n",
    "plt.tick_params(axis='y',left=False)\n",
    "plt.grid(axis='x', linestyle='--', linewidth=0.5)\n",
    "plt.tight_layout()\n",
    "plt.savefig('img/incidents_category.png')"
   ]
  },
  {
   "cell_type": "markdown",
   "metadata": {},
   "source": [
    "**Narrow Scope to Crimes of Stolen Property Only**"
   ]
  },
  {
   "cell_type": "code",
   "execution_count": null,
   "metadata": {},
   "outputs": [],
   "source": [
    "stolen_types = ['Burglary', 'Larceny Theft', 'Lost Property', 'Motor Vehicle Theft', 'Robbery', 'Stolen Property']\n",
    "stolen_pre_df = pre_df.loc[data_df['incident_category'].isin(stolen_types)]\n",
    "stolen_post_df = post_df.loc[data_df['incident_category'].isin(stolen_types)]"
   ]
  },
  {
   "cell_type": "markdown",
   "metadata": {},
   "source": [
    "**Map Analysis**<br>\n",
    "Resource: https://jupyter-gmaps.readthedocs.io/en/latest/tutorial.html"
   ]
  },
  {
   "cell_type": "code",
   "execution_count": null,
   "metadata": {},
   "outputs": [],
   "source": [
    "# Map incidents by latitude and longitude\n",
    "def map_incidents(df):\n",
    "    latlong_df = df[['incident_id', 'latitude', 'longitude']].copy().drop_duplicates().dropna(how='any')\n",
    "    locations = latlong_df[['latitude', 'longitude']].astype(float)\n",
    "    fig_layout_dict = {'width':'1000px', 'height':'1000px', 'border':'1px solid black', 'padding':'5px'}\n",
    "    fig = gmaps.figure(layout=fig_layout_dict)\n",
    "    heat_layer = gmaps.heatmap_layer(locations, dissipating=True, max_intensity=5, point_radius=5)\n",
    "    fig.add_layer(heat_layer)\n",
    "    return fig"
   ]
  },
  {
   "cell_type": "code",
   "execution_count": null,
   "metadata": {},
   "outputs": [],
   "source": [
    "# Map pre-lockdown incidents\n",
    "map_incidents(stolen_pre_df)"
   ]
  },
  {
   "cell_type": "code",
   "execution_count": null,
   "metadata": {},
   "outputs": [],
   "source": [
    "# Map post-lockdown incidents\n",
    "map_incidents(stolen_post_df)"
   ]
  },
  {
   "cell_type": "markdown",
   "metadata": {},
   "source": [
    "**Neighborhood Analysis**"
   ]
  },
  {
   "cell_type": "code",
   "execution_count": null,
   "metadata": {},
   "outputs": [],
   "source": [
    "# Group incidents by neighborhood\n",
    "def chart_neighborhood_incidents(df, timing):\n",
    "    district_ser = df.groupby('analysis_neighborhood')['incident_id'].nunique()\n",
    "    district_ser.sort_values(ascending=True, inplace=True)\n",
    "    plt.figure(figsize=(10,10))\n",
    "    plt.barh(district_ser.index, district_ser, height=0.5, color='royalblue', align='center')\n",
    "    plt.title(f'Neighborhood Incidents {timing}-Lockdown')\n",
    "    plt.xlabel('Incidents')\n",
    "    plt.ylabel('Neighborhood')\n",
    "    plt.ylim(-0.5, len(district_ser)-0.5)\n",
    "    plt.tick_params(axis='y',left=False)\n",
    "    plt.tight_layout()\n",
    "    plt.savefig(f'img/incidents_neighborhood_{timing.lower()}.png')"
   ]
  },
  {
   "cell_type": "code",
   "execution_count": null,
   "metadata": {},
   "outputs": [],
   "source": [
    "# Chart pre-lockdown incidents\n",
    "chart_neighborhood_incidents(stolen_pre_df, 'Pre')"
   ]
  },
  {
   "cell_type": "code",
   "execution_count": null,
   "metadata": {
    "scrolled": true
   },
   "outputs": [],
   "source": [
    "# Chart post-lockdown incidents\n",
    "chart_neighborhood_incidents(stolen_post_df, 'Post')"
   ]
  },
  {
   "cell_type": "markdown",
   "metadata": {},
   "source": [
    "**Time Analysis**"
   ]
  },
  {
   "cell_type": "code",
   "execution_count": null,
   "metadata": {},
   "outputs": [],
   "source": [
    "days = ['Mon', 'Tue', 'Wed', 'Thu', 'Fri', 'Sat', 'Sun']"
   ]
  },
  {
   "cell_type": "code",
   "execution_count": null,
   "metadata": {},
   "outputs": [],
   "source": [
    "# Group total incidents by day and hour\n",
    "def chart_time_incidents(start_date, end_date, df, timing):\n",
    "    \n",
    "    # Count occurrence of each day of week within date range\n",
    "    # Resource: https://numpy.org/doc/stable/reference/generated/numpy.busday_count.html\n",
    "    days_dict = {}\n",
    "    def day_counter(start_date, end_date, day):\n",
    "        day_count = np.busday_count(start_date, end_date+timedelta(days=1), weekmask=day)\n",
    "        return day_count\n",
    "    for day in days:\n",
    "        days_dict[day] = day_counter(start_date, end_date, day)\n",
    "    \n",
    "    # Group total incidents by day and hour\n",
    "    # Resource: https://www.javaer101.com/en/article/17171715.html\n",
    "    time_df = df[['incident_day_of_week', 'incident_time', 'incident_id']].copy().drop_duplicates()\n",
    "    day_cats = pd.api.types.CategoricalDtype(categories=days, ordered=True)\n",
    "    time_df['day_abbr'] = time_df['incident_day_of_week'].str[:3].astype(day_cats)\n",
    "    time_df['incident_hour'] = time_df['incident_time'].str[:2].astype(int)\n",
    "    time_ser = time_df.groupby(['day_abbr', 'incident_hour'])['incident_id'].nunique().astype(float)\n",
    "    \n",
    "    # Convert total incidents to average incidents by weekday and hour\n",
    "    def day_count_divisor(day):\n",
    "        time_ser[day] = time_ser.loc[day].divide(days_dict[day], level='day_abbr')\n",
    "    for day in days:\n",
    "        day_count_divisor(day)\n",
    "\n",
    "    # Plot\n",
    "    time_ser.unstack(level=0).plot(\n",
    "        kind='line',\n",
    "        figsize=(12,8),\n",
    "        title=f'Average Hourly Incidents {timing}-Lockdown')\n",
    "    plt.xlabel('Hour')\n",
    "    plt.ylabel('Average Incidents')\n",
    "    plt.ylim(0, time_ser.max()*1.2)\n",
    "    plt.xticks(np.arange(0,24,2))\n",
    "    plt.legend(title='Day of Week')\n",
    "    plt.tight_layout()\n",
    "    plt.savefig(f'img/incidents_hourly_{timing.lower()}.png')"
   ]
  },
  {
   "cell_type": "code",
   "execution_count": null,
   "metadata": {
    "scrolled": true
   },
   "outputs": [],
   "source": [
    "chart_time_incidents(start_date, lockdown_date-timedelta(days=1), stolen_pre_df, 'Pre')"
   ]
  },
  {
   "cell_type": "code",
   "execution_count": null,
   "metadata": {},
   "outputs": [],
   "source": [
    "chart_time_incidents(lockdown_date, end_date, stolen_post_df, 'Post')"
   ]
  },
  {
   "cell_type": "code",
   "execution_count": null,
   "metadata": {},
   "outputs": [],
   "source": []
  }
 ],
 "metadata": {
  "kernelspec": {
   "display_name": "Python 3",
   "language": "python",
   "name": "python3"
  },
  "language_info": {
   "codemirror_mode": {
    "name": "ipython",
    "version": 3
   },
   "file_extension": ".py",
   "mimetype": "text/x-python",
   "name": "python",
   "nbconvert_exporter": "python",
   "pygments_lexer": "ipython3",
   "version": "3.7.4"
  }
 },
 "nbformat": 4,
 "nbformat_minor": 2
}
